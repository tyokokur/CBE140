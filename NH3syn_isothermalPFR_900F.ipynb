{
 "cells": [
  {
   "cell_type": "markdown",
   "metadata": {
    "id": "MGH2XpIg23kB"
   },
   "source": [
    "Adapted from NH3syn_isothermalPFR_900F.m by Takashi Yokokura F2023 for UC Berkeley CHMENG 140 F2023. Written to match syntax and flow of MATLAB code, not necessarily for Python best practice"
   ]
  },
  {
   "cell_type": "code",
   "execution_count": 1,
   "metadata": {
    "id": "thVKPUa42ppf"
   },
   "outputs": [],
   "source": [
    "import numpy as np, pandas as pd, matplotlib.pyplot as plt\n",
    "from scipy.integrate import solve_ivp\n",
    "import warnings\n",
    "warnings.filterwarnings('ignore') # A couple math no-no's in this example, but ignore them"
   ]
  },
  {
   "cell_type": "code",
   "execution_count": 2,
   "metadata": {
    "id": "VsBK6A5N3TEf"
   },
   "outputs": [],
   "source": [
    "# Define differential equation\n",
    "def dxdV(V, x):\n",
    "  dxdV = np.zeros((1,1))\n",
    "  k1 = 1.2 # lbmol/ft^3/h\n",
    "  beta = 0.00140\n",
    "  K = 0.00467\n",
    "  P = 300 # atm\n",
    "  N2o = 1 # inlet N2 flow lbmol/hr\n",
    "\n",
    "  yN = (1 - x) / (4 - 2 * x)\n",
    "  yH = 3 * yN\n",
    "  yNH3 = 2 * x / (4 - 2 * x)\n",
    "\n",
    "  dxdV[0] = ( N2o**-1 * k1*( yN * yH**3 - yNH3**2 / (K**2 * P**2))\n",
    "           / ( (yNH3 * yH**0.5 + beta * yH**2)**1.5 ) )\n",
    "\n",
    "  return dxdV"
   ]
  },
  {
   "cell_type": "code",
   "execution_count": 3,
   "metadata": {
    "colab": {
     "base_uri": "https://localhost:8080/",
     "height": 455
    },
    "id": "iOmTiC-Q51T_",
    "outputId": "160ff00a-b96a-4178-e82f-e69841f4e961"
   },
   "outputs": [
    {
     "data": {
      "image/png": "[encoded data removed]",
      "text/plain": [
       "<Figure size 640x480 with 1 Axes>"
      ]
     },
     "metadata": {},
     "output_type": "display_data"
    }
   ],
   "source": [
    "# Initialize\n",
    "initialconversion = [0]\n",
    "Vrange = [0, 4000] # ft^3\n",
    "\n",
    "# Solve ODE\n",
    "results = solve_ivp(dxdV,  Vrange, initialconversion, method = 'RK45', rtol=1e-04)\n",
    "\n",
    "# Collect results\n",
    "V, x = results.t, results.y\n",
    "Vactual = V * 268 / (x + 1E-08)\n",
    "logVactual = np.log10(Vactual)\n",
    "\n",
    "# Plot results\n",
    "plt.plot(*x, *logVactual) # Don't worry about the *'s; they are just to \"unpack\" the arrays\n",
    "plt.xlim(0, 0.45)\n",
    "plt.xlabel('x conversion')\n",
    "plt.ylim(-3, 6)\n",
    "plt.ylabel(r'$\\mathrm{log_{10}(Vactual), ft^3}$') # Formatted using LATEX\n",
    "plt.text(0.1, 5, '900F; 300 atm')\n",
    "plt.show()"
   ]
  },
  {
   "cell_type": "code",
   "execution_count": 4,
   "metadata": {
    "colab": {
     "base_uri": "https://localhost:8080/",
     "height": 424
    },
    "id": "1sIabikAGovT",
    "outputId": "2ffcc515-6d92-44e0-c77a-00a4a0b32b1e"
   },
   "outputs": [
    {
     "data": {
      "text/html": [
       "<div>\n",
       "<style scoped>\n",
       "    .dataframe tbody tr th:only-of-type {\n",
       "        vertical-align: middle;\n",
       "    }\n",
       "\n",
       "    .dataframe tbody tr th {\n",
       "        vertical-align: top;\n",
       "    }\n",
       "\n",
       "    .dataframe thead th {\n",
       "        text-align: right;\n",
       "    }\n",
       "</style>\n",
       "<table border=\"1\" class=\"dataframe\">\n",
       "  <thead>\n",
       "    <tr style=\"text-align: right;\">\n",
       "      <th></th>\n",
       "      <th>x</th>\n",
       "      <th>Vactual/10000</th>\n",
       "    </tr>\n",
       "  </thead>\n",
       "  <tbody>\n",
       "    <tr>\n",
       "      <th>0</th>\n",
       "      <td>0.000000</td>\n",
       "      <td>0.000000</td>\n",
       "    </tr>\n",
       "    <tr>\n",
       "      <th>1</th>\n",
       "      <td>0.001196</td>\n",
       "      <td>0.000007</td>\n",
       "    </tr>\n",
       "    <tr>\n",
       "      <th>2</th>\n",
       "      <td>0.001925</td>\n",
       "      <td>0.000009</td>\n",
       "    </tr>\n",
       "    <tr>\n",
       "      <th>3</th>\n",
       "      <td>0.003437</td>\n",
       "      <td>0.000013</td>\n",
       "    </tr>\n",
       "    <tr>\n",
       "      <th>4</th>\n",
       "      <td>0.005685</td>\n",
       "      <td>0.000020</td>\n",
       "    </tr>\n",
       "    <tr>\n",
       "      <th>...</th>\n",
       "      <td>...</td>\n",
       "      <td>...</td>\n",
       "    </tr>\n",
       "    <tr>\n",
       "      <th>5977</th>\n",
       "      <td>0.404489</td>\n",
       "      <td>264.872016</td>\n",
       "    </tr>\n",
       "    <tr>\n",
       "      <th>5978</th>\n",
       "      <td>0.404484</td>\n",
       "      <td>264.921413</td>\n",
       "    </tr>\n",
       "    <tr>\n",
       "      <th>5979</th>\n",
       "      <td>0.404466</td>\n",
       "      <td>264.983070</td>\n",
       "    </tr>\n",
       "    <tr>\n",
       "      <th>5980</th>\n",
       "      <td>0.404480</td>\n",
       "      <td>265.014945</td>\n",
       "    </tr>\n",
       "    <tr>\n",
       "      <th>5981</th>\n",
       "      <td>0.404497</td>\n",
       "      <td>265.020643</td>\n",
       "    </tr>\n",
       "  </tbody>\n",
       "</table>\n",
       "<p>5982 rows × 2 columns</p>\n",
       "</div>"
      ],
      "text/plain": [
       "             x  Vactual/10000\n",
       "0     0.000000       0.000000\n",
       "1     0.001196       0.000007\n",
       "2     0.001925       0.000009\n",
       "3     0.003437       0.000013\n",
       "4     0.005685       0.000020\n",
       "...        ...            ...\n",
       "5977  0.404489     264.872016\n",
       "5978  0.404484     264.921413\n",
       "5979  0.404466     264.983070\n",
       "5980  0.404480     265.014945\n",
       "5981  0.404497     265.020643\n",
       "\n",
       "[5982 rows x 2 columns]"
      ]
     },
     "metadata": {},
     "output_type": "display_data"
    }
   ],
   "source": [
    "display(pd.DataFrame([*x, *Vactual*1E-04], index=['x', 'Vactual/10000']).T)"
   ]
  },
  {
   "cell_type": "code",
   "execution_count": null,
   "metadata": {},
   "outputs": [],
   "source": []
  }
 ],
 "metadata": {
  "colab": {
   "provenance": []
  },
  "kernelspec": {
   "display_name": "Python 3 (ipykernel)",
   "language": "python",
   "name": "python3"
  },
  "language_info": {
   "codemirror_mode": {
    "name": "ipython",
    "version": 3
   },
   "file_extension": ".py",
   "mimetype": "text/x-python",
   "name": "python",
   "nbconvert_exporter": "python",
   "pygments_lexer": "ipython3",
   "version": "3.10.7"
  }
 },
 "nbformat": 4,
 "nbformat_minor": 4
}
